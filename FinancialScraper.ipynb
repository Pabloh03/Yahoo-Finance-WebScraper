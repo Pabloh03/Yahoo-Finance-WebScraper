{
 "cells": [
  {
   "cell_type": "code",
   "execution_count": null,
   "metadata": {},
   "outputs": [],
   "source": [
    "#For Webscraping\n",
    "from selenium import webdriver\n",
    "\n",
    "#To Pull Stock Data\n",
    "import pandas_datareader.data as web\n",
    "\n",
    "#Other useful modules\n",
    "import time, datetime\n",
    "import pandas as pd\n",
    "\n",
    "#For data visualization\n",
    "import plotly\n",
    "import plotly.graph_objects as go\n",
    "import plotly.express as px"
   ]
  },
  {
   "cell_type": "code",
   "execution_count": null,
   "metadata": {},
   "outputs": [],
   "source": [
    "#Path to ChromeWebDriver\n",
    "PATH = r'Path\\chromedriver.exe'\n",
    "#Ticker\n",
    "ticker = 'GOOG'"
   ]
  },
  {
   "cell_type": "code",
   "execution_count": null,
   "metadata": {},
   "outputs": [],
   "source": [
    "driver = webdriver.Chrome(PATH)\n",
    "\n",
    "#Start Website\n",
    "driver.minimize_window()\n",
    "driver.get('https://finance.yahoo.com/quote/' + ticker + '/financials?p=' + ticker)\n",
    "\n",
    "#Scraping data for Income Statement\n",
    "expand = driver.find_element_by_xpath('//div[@id=\"Col1-1-Financials-Proxy\"]//div[@class=\"Mb(10px)\"]//button').click()\n",
    "time.sleep(5)\n",
    "IScolumnTitles = [x.text for x in driver.find_elements_by_xpath('//div[@class=\"D(tbr) C($primaryColor)\"]//div//span')]\n",
    "ISfinancialNumbers = [x.text for x in driver.find_elements_by_xpath('//div[@class=\"D(tbrg)\"]//div[@class=\"rw-expnded\"]//div[@data-test=\"fin-col\"]')]\n",
    "\n",
    "#Removing all commas from strings\n",
    "ISfinancialNumbers = [x.replace(\",\", \"\") for x in ISfinancialNumbers]\n",
    "\n",
    "ISrowTitles = [x.text for x in driver.find_elements_by_xpath('//div[@class=\"rw-expnded\"]//span[@class=\"Va(m)\"]')]\n",
    "\n",
    "balance_tab = driver.find_element_by_xpath('//div[@class=\"D(ib) Pos(r)\"]//a[@role=\"tab\"]').click() #So the next page can start loading\n",
    "column_count = len(IScolumnTitles[1:])\n",
    "ISNums = [ISfinancialNumbers[i:i+column_count] for i in range(0, len(ISfinancialNumbers), column_count)]\n",
    "\n",
    "income_statement = pd.DataFrame(ISNums, ISrowTitles, IScolumnTitles[1:])\n",
    "\n",
    "time.sleep(5)\n",
    "\n",
    "#Scraping data for Balance Sheet\n",
    "expand = driver.find_element_by_xpath('//div[@id=\"Col1-1-Financials-Proxy\"]//div[@class=\"Mb(10px)\"]//button').click()\n",
    "BScolumnTitles = [x.text for x in driver.find_elements_by_xpath('//div[@class=\"D(tbr) C($primaryColor)\"]//div//span')]\n",
    "BSfinancialNumbers = [x.text for x in driver.find_elements_by_xpath('//div[@class=\"D(tbrg)\"]//div[@class=\"rw-expnded\"]//div[@data-test=\"fin-col\"]')]\n",
    "\n",
    "#Removing all commas from strings\n",
    "BSfinancialNumbers = [x.replace(\",\", \"\") for x in BSfinancialNumbers]\n",
    "\n",
    "BSrowTitles = [x.text for x in driver.find_elements_by_xpath('//div[@class=\"rw-expnded\"]//span[@class=\"Va(m)\"]')]\n",
    "\n",
    "cf_tab = driver.find_element_by_xpath('(//a[@class=\"Mend(10px) P(0px) M(0px) C($linkColor) C($primaryColor):h Bd(0px)\"])[2]').click()\n",
    "column_count = len(BScolumnTitles[1:])\n",
    "BSNums = [BSfinancialNumbers[i:i+column_count] for i in range(0, len(BSfinancialNumbers), column_count)]\n",
    "\n",
    "balance_sheet = pd.DataFrame(BSNums, BSrowTitles, BScolumnTitles[1:])\n",
    "\n",
    "driver.close()\n",
    "time.sleep(5)"
   ]
  },
  {
   "cell_type": "code",
   "execution_count": null,
   "metadata": {},
   "outputs": [],
   "source": [
    "driver = webdriver.Chrome(PATH)\n",
    "\n",
    "#Closed previous session and open a new one due to load page performance. \n",
    "driver.minimize_window()\n",
    "driver.get('https://finance.yahoo.com/quote/' + ticker + '/cash-flow?p=' + ticker)\n",
    "\n",
    "#Cash Flow\n",
    "expand = driver.find_element_by_xpath('//div[@id=\"Col1-1-Financials-Proxy\"]//div[@class=\"Mb(10px)\"]//button').click()\n",
    "time.sleep(5)\n",
    "CFcolumnTitles = [x.text for x in driver.find_elements_by_xpath('//div[@class=\"D(tbr) C($primaryColor)\"]//div//span')]\n",
    "CFfinancialNumbers = [x.text for x in driver.find_elements_by_xpath('//div[@class=\"D(tbrg)\"]//div[@class=\"rw-expnded\"]//div[@data-test=\"fin-col\"]')]\n",
    "\n",
    "#Removing all commas from strings\n",
    "CFfinancialNumbers = [x.replace(\",\", \"\") for x in CFfinancialNumbers]\n",
    "\n",
    "CFrowTitles = [x.text for x in driver.find_elements_by_xpath('//div[@class=\"rw-expnded\"]//span[@class=\"Va(m)\"]')]\n",
    "\n",
    "column_count = len(CFcolumnTitles[1:])\n",
    "CFNums = [CFfinancialNumbers[i:i+column_count] for i in range(0, len(CFfinancialNumbers), column_count)]\n",
    "\n",
    "cash_flow = pd.DataFrame(CFNums, CFrowTitles, CFcolumnTitles[1:])\n",
    "\n",
    "driver.close()"
   ]
  },
  {
   "cell_type": "code",
   "execution_count": null,
   "metadata": {
    "scrolled": true
   },
   "outputs": [],
   "source": [
    "#Currently all data is a string. Need to convert it to a number. \n",
    "income_statement = income_statement.replace(\"-\", 0).astype(float)\n",
    "balance_sheet = balance_sheet.replace(\"-\", 0).astype(float)\n",
    "cash_flow = cash_flow.replace(\"-\", 0).astype(float)"
   ]
  },
  {
   "cell_type": "code",
   "execution_count": null,
   "metadata": {},
   "outputs": [],
   "source": [
    "#Saving the financial data to a spreadsheet\n",
    "with pd.ExcelWriter(ticker + ' Financial Data.xlsx') as writer:\n",
    "    income_statement.to_excel(writer, sheet_name='Income Statement')\n",
    "    balance_sheet.to_excel(writer, sheet_name='Balance Sheet')\n",
    "    cash_flow.to_excel(writer, sheet_name='Cash Flow')"
   ]
  },
  {
   "cell_type": "code",
   "execution_count": null,
   "metadata": {},
   "outputs": [],
   "source": [
    "#Start Date will be the beginning of the oldest year in the financial statements\n",
    "dt = datetime.datetime.strptime(IScolumnTitles[-1], '%m/%d/%Y')\n",
    "start = datetime.datetime(dt.year, 1, 1)\n",
    "\n",
    "#End Date\n",
    "end = datetime.date.today()\n",
    "\n",
    "\n",
    "stock_data = web.DataReader(ticker, \"av-daily\", start=start, end=end, api_key='ALPHAVANTAGE_API_KEY')\n",
    "\n",
    "#Also pulling the daily stock deltas\n",
    "stock_delta = pd.DataFrame()\n",
    "stock_delta['Change'] = stock_data['close'].pct_change()\n",
    "stock_delta.index.rename('Date', inplace=True)\n",
    "stock_delta['Change'] = stock_delta['Change'].apply(lambda x: x*100)"
   ]
  },
  {
   "cell_type": "code",
   "execution_count": null,
   "metadata": {},
   "outputs": [],
   "source": [
    "stock_chart = go.Figure(data=[go.Candlestick(x=stock_data.index, open=stock_data['open'], high=stock_data['high'], low=stock_data['low'], close=stock_data['close'])])\n",
    "\n",
    "stock_chart.update_layout(\n",
    "title=ticker + ' Stock Historical Data',\n",
    "yaxis_title='Stock Price')"
   ]
  },
  {
   "cell_type": "code",
   "execution_count": null,
   "metadata": {
    "scrolled": false
   },
   "outputs": [],
   "source": [
    "delta_graph = px.line(stock_delta, y=\"Change\", title=ticker + ' Daily Delta in %')\n",
    "delta_graph.show()"
   ]
  },
  {
   "cell_type": "code",
   "execution_count": null,
   "metadata": {},
   "outputs": [],
   "source": [
    "stock_delta.describe()"
   ]
  },
  {
   "cell_type": "code",
   "execution_count": null,
   "metadata": {},
   "outputs": [],
   "source": [
    "IS = income_statement.loc[['Total Revenue', 'Gross Profit', 'Net Income']].T.reset_index()[::-1]\n",
    "income_statement_chart = px.line(IS, x=IS['index'], y=IS.columns)\n",
    "income_statement_chart.update_layout(\n",
    "title=ticker,\n",
    "yaxis_title='USD in Thousands',\n",
    "xaxis_title='Date',\n",
    "legend_title_text='Breakdown')"
   ]
  }
 ],
 "metadata": {
  "kernelspec": {
   "display_name": "Python 3",
   "language": "python",
   "name": "python3"
  },
  "language_info": {
   "codemirror_mode": {
    "name": "ipython",
    "version": 3
   },
   "file_extension": ".py",
   "mimetype": "text/x-python",
   "name": "python",
   "nbconvert_exporter": "python",
   "pygments_lexer": "ipython3",
   "version": "3.8.5"
  }
 },
 "nbformat": 4,
 "nbformat_minor": 4
}
